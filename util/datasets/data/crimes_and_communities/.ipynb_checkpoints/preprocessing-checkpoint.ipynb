{
 "cells": [
  {
   "cell_type": "code",
   "execution_count": 30,
   "metadata": {
    "collapsed": true
   },
   "outputs": [],
   "source": [
    "import pandas as pd\n",
    "import numpy as np"
   ]
  },
  {
   "cell_type": "code",
   "execution_count": 104,
   "metadata": {},
   "outputs": [
    {
     "name": "stdout",
     "output_type": "stream",
     "text": [
      "1994\n"
     ]
    },
    {
     "data": {
      "text/html": [
       "<div>\n",
       "<style scoped>\n",
       "    .dataframe tbody tr th:only-of-type {\n",
       "        vertical-align: middle;\n",
       "    }\n",
       "\n",
       "    .dataframe tbody tr th {\n",
       "        vertical-align: top;\n",
       "    }\n",
       "\n",
       "    .dataframe thead th {\n",
       "        text-align: right;\n",
       "    }\n",
       "</style>\n",
       "<table border=\"1\" class=\"dataframe\">\n",
       "  <thead>\n",
       "    <tr style=\"text-align: right;\">\n",
       "      <th></th>\n",
       "      <th>0</th>\n",
       "      <th>1</th>\n",
       "      <th>2</th>\n",
       "      <th>3</th>\n",
       "      <th>4</th>\n",
       "      <th>5</th>\n",
       "      <th>6</th>\n",
       "      <th>7</th>\n",
       "      <th>8</th>\n",
       "      <th>9</th>\n",
       "      <th>...</th>\n",
       "      <th>118</th>\n",
       "      <th>119</th>\n",
       "      <th>120</th>\n",
       "      <th>121</th>\n",
       "      <th>122</th>\n",
       "      <th>123</th>\n",
       "      <th>124</th>\n",
       "      <th>125</th>\n",
       "      <th>126</th>\n",
       "      <th>127</th>\n",
       "    </tr>\n",
       "  </thead>\n",
       "  <tbody>\n",
       "    <tr>\n",
       "      <th>0</th>\n",
       "      <td>8</td>\n",
       "      <td>?</td>\n",
       "      <td>?</td>\n",
       "      <td>Lakewoodcity</td>\n",
       "      <td>1</td>\n",
       "      <td>0.19</td>\n",
       "      <td>0.33</td>\n",
       "      <td>0.02</td>\n",
       "      <td>0.90</td>\n",
       "      <td>0.12</td>\n",
       "      <td>...</td>\n",
       "      <td>0.12</td>\n",
       "      <td>0.26</td>\n",
       "      <td>0.20</td>\n",
       "      <td>0.06</td>\n",
       "      <td>0.04</td>\n",
       "      <td>0.9</td>\n",
       "      <td>0.5</td>\n",
       "      <td>0.32</td>\n",
       "      <td>0.14</td>\n",
       "      <td>0.20</td>\n",
       "    </tr>\n",
       "    <tr>\n",
       "      <th>1</th>\n",
       "      <td>53</td>\n",
       "      <td>?</td>\n",
       "      <td>?</td>\n",
       "      <td>Tukwilacity</td>\n",
       "      <td>1</td>\n",
       "      <td>0.00</td>\n",
       "      <td>0.16</td>\n",
       "      <td>0.12</td>\n",
       "      <td>0.74</td>\n",
       "      <td>0.45</td>\n",
       "      <td>...</td>\n",
       "      <td>0.02</td>\n",
       "      <td>0.12</td>\n",
       "      <td>0.45</td>\n",
       "      <td>?</td>\n",
       "      <td>?</td>\n",
       "      <td>?</td>\n",
       "      <td>?</td>\n",
       "      <td>0.00</td>\n",
       "      <td>?</td>\n",
       "      <td>0.67</td>\n",
       "    </tr>\n",
       "    <tr>\n",
       "      <th>2</th>\n",
       "      <td>24</td>\n",
       "      <td>?</td>\n",
       "      <td>?</td>\n",
       "      <td>Aberdeentown</td>\n",
       "      <td>1</td>\n",
       "      <td>0.00</td>\n",
       "      <td>0.42</td>\n",
       "      <td>0.49</td>\n",
       "      <td>0.56</td>\n",
       "      <td>0.17</td>\n",
       "      <td>...</td>\n",
       "      <td>0.01</td>\n",
       "      <td>0.21</td>\n",
       "      <td>0.02</td>\n",
       "      <td>?</td>\n",
       "      <td>?</td>\n",
       "      <td>?</td>\n",
       "      <td>?</td>\n",
       "      <td>0.00</td>\n",
       "      <td>?</td>\n",
       "      <td>0.43</td>\n",
       "    </tr>\n",
       "    <tr>\n",
       "      <th>3</th>\n",
       "      <td>34</td>\n",
       "      <td>5</td>\n",
       "      <td>81440</td>\n",
       "      <td>Willingborotownship</td>\n",
       "      <td>1</td>\n",
       "      <td>0.04</td>\n",
       "      <td>0.77</td>\n",
       "      <td>1.00</td>\n",
       "      <td>0.08</td>\n",
       "      <td>0.12</td>\n",
       "      <td>...</td>\n",
       "      <td>0.02</td>\n",
       "      <td>0.39</td>\n",
       "      <td>0.28</td>\n",
       "      <td>?</td>\n",
       "      <td>?</td>\n",
       "      <td>?</td>\n",
       "      <td>?</td>\n",
       "      <td>0.00</td>\n",
       "      <td>?</td>\n",
       "      <td>0.12</td>\n",
       "    </tr>\n",
       "    <tr>\n",
       "      <th>4</th>\n",
       "      <td>42</td>\n",
       "      <td>95</td>\n",
       "      <td>6096</td>\n",
       "      <td>Bethlehemtownship</td>\n",
       "      <td>1</td>\n",
       "      <td>0.01</td>\n",
       "      <td>0.55</td>\n",
       "      <td>0.02</td>\n",
       "      <td>0.95</td>\n",
       "      <td>0.09</td>\n",
       "      <td>...</td>\n",
       "      <td>0.04</td>\n",
       "      <td>0.09</td>\n",
       "      <td>0.02</td>\n",
       "      <td>?</td>\n",
       "      <td>?</td>\n",
       "      <td>?</td>\n",
       "      <td>?</td>\n",
       "      <td>0.00</td>\n",
       "      <td>?</td>\n",
       "      <td>0.03</td>\n",
       "    </tr>\n",
       "  </tbody>\n",
       "</table>\n",
       "<p>5 rows × 128 columns</p>\n",
       "</div>"
      ],
      "text/plain": [
       "   0   1      2                    3    4     5     6     7     8     9    \\\n",
       "0    8   ?      ?         Lakewoodcity    1  0.19  0.33  0.02  0.90  0.12   \n",
       "1   53   ?      ?          Tukwilacity    1  0.00  0.16  0.12  0.74  0.45   \n",
       "2   24   ?      ?         Aberdeentown    1  0.00  0.42  0.49  0.56  0.17   \n",
       "3   34   5  81440  Willingborotownship    1  0.04  0.77  1.00  0.08  0.12   \n",
       "4   42  95   6096    Bethlehemtownship    1  0.01  0.55  0.02  0.95  0.09   \n",
       "\n",
       "   ...    118   119   120   121   122  123  124   125   126   127  \n",
       "0  ...   0.12  0.26  0.20  0.06  0.04  0.9  0.5  0.32  0.14  0.20  \n",
       "1  ...   0.02  0.12  0.45     ?     ?    ?    ?  0.00     ?  0.67  \n",
       "2  ...   0.01  0.21  0.02     ?     ?    ?    ?  0.00     ?  0.43  \n",
       "3  ...   0.02  0.39  0.28     ?     ?    ?    ?  0.00     ?  0.12  \n",
       "4  ...   0.04  0.09  0.02     ?     ?    ?    ?  0.00     ?  0.03  \n",
       "\n",
       "[5 rows x 128 columns]"
      ]
     },
     "execution_count": 104,
     "metadata": {},
     "output_type": "execute_result"
    }
   ],
   "source": [
    "df = pd.read_csv('communities.data',header=None)\n",
    "print (len(df))\n",
    "df.head()"
   ]
  },
  {
   "cell_type": "code",
   "execution_count": 105,
   "metadata": {},
   "outputs": [
    {
     "name": "stdout",
     "output_type": "stream",
     "text": [
      "[('state', 'cont', ['<num>']), ('county', 'cont', ['<num>']), ('community', 'cont', ['<num>']), ('communityname', 'cont', ['<num>']), ('fold', 'cont', ['<num>']), ('population', 'cont', ['<num>']), ('householdsize', 'cont', ['<num>']), ('racepctblack', 'cont', ['<num>']), ('racePctWhite', 'cont', ['<num>']), ('racePctAsian', 'cont', ['<num>']), ('racePctHisp', 'cont', ['<num>']), ('agePct12t21', 'cont', ['<num>']), ('agePct12t29', 'cont', ['<num>']), ('agePct16t24', 'cont', ['<num>']), ('agePct65up', 'cont', ['<num>']), ('numbUrban', 'cont', ['<num>']), ('pctUrban', 'cont', ['<num>']), ('medIncome', 'cont', ['<num>']), ('pctWWage', 'cont', ['<num>']), ('pctWFarmSelf', 'cont', ['<num>']), ('pctWInvInc', 'cont', ['<num>']), ('pctWSocSec', 'cont', ['<num>']), ('pctWPubAsst', 'cont', ['<num>']), ('pctWRetire', 'cont', ['<num>']), ('medFamInc', 'cont', ['<num>']), ('perCapInc', 'cont', ['<num>']), ('whitePerCap', 'cont', ['<num>']), ('blackPerCap', 'cont', ['<num>']), ('indianPerCap', 'cont', ['<num>']), ('AsianPerCap', 'cont', ['<num>']), ('OtherPerCap', 'cont', ['<num>']), ('HispPerCap', 'cont', ['<num>']), ('NumUnderPov', 'cont', ['<num>']), ('PctPopUnderPov', 'cont', ['<num>']), ('PctLess9thGrade', 'cont', ['<num>']), ('PctNotHSGrad', 'cont', ['<num>']), ('PctBSorMore', 'cont', ['<num>']), ('PctUnemployed', 'cont', ['<num>']), ('PctEmploy', 'cont', ['<num>']), ('PctEmplManu', 'cont', ['<num>']), ('PctEmplProfServ', 'cont', ['<num>']), ('PctOccupManu', 'cont', ['<num>']), ('PctOccupMgmtProf', 'cont', ['<num>']), ('MalePctDivorce', 'cont', ['<num>']), ('MalePctNevMarr', 'cont', ['<num>']), ('FemalePctDiv', 'cont', ['<num>']), ('TotalPctDiv', 'cont', ['<num>']), ('PersPerFam', 'cont', ['<num>']), ('PctFam2Par', 'cont', ['<num>']), ('PctKids2Par', 'cont', ['<num>']), ('PctYoungKids2Par', 'cont', ['<num>']), ('PctTeen2Par', 'cont', ['<num>']), ('PctWorkMomYoungKids', 'cont', ['<num>']), ('PctWorkMom', 'cont', ['<num>']), ('NumIlleg', 'cont', ['<num>']), ('PctIlleg', 'cont', ['<num>']), ('NumImmig', 'cont', ['<num>']), ('PctImmigRecent', 'cont', ['<num>']), ('PctImmigRec5', 'cont', ['<num>']), ('PctImmigRec8', 'cont', ['<num>']), ('PctImmigRec10', 'cont', ['<num>']), ('PctRecentImmig', 'cont', ['<num>']), ('PctRecImmig5', 'cont', ['<num>']), ('PctRecImmig8', 'cont', ['<num>']), ('PctRecImmig10', 'cont', ['<num>']), ('PctSpeakEnglOnly', 'cont', ['<num>']), ('PctNotSpeakEnglWell', 'cont', ['<num>']), ('PctLargHouseFam', 'cont', ['<num>']), ('PctLargHouseOccup', 'cont', ['<num>']), ('PersPerOccupHous', 'cont', ['<num>']), ('PersPerOwnOccHous', 'cont', ['<num>']), ('PersPerRentOccHous', 'cont', ['<num>']), ('PctPersOwnOccup', 'cont', ['<num>']), ('PctPersDenseHous', 'cont', ['<num>']), ('PctHousLess3BR', 'cont', ['<num>']), ('MedNumBR', 'cont', ['<num>']), ('HousVacant', 'cont', ['<num>']), ('PctHousOccup', 'cont', ['<num>']), ('PctHousOwnOcc', 'cont', ['<num>']), ('PctVacantBoarded', 'cont', ['<num>']), ('PctVacMore6Mos', 'cont', ['<num>']), ('MedYrHousBuilt', 'cont', ['<num>']), ('PctHousNoPhone', 'cont', ['<num>']), ('PctWOFullPlumb', 'cont', ['<num>']), ('OwnOccLowQuart', 'cont', ['<num>']), ('OwnOccMedVal', 'cont', ['<num>']), ('OwnOccHiQuart', 'cont', ['<num>']), ('RentLowQ', 'cont', ['<num>']), ('RentMedian', 'cont', ['<num>']), ('RentHighQ', 'cont', ['<num>']), ('MedRent', 'cont', ['<num>']), ('MedRentPctHousInc', 'cont', ['<num>']), ('MedOwnCostPctInc', 'cont', ['<num>']), ('MedOwnCostPctIncNoMtg', 'cont', ['<num>']), ('NumInShelters', 'cont', ['<num>']), ('NumStreet', 'cont', ['<num>']), ('PctForeignBorn', 'cont', ['<num>']), ('PctBornSameState', 'cont', ['<num>']), ('PctSameHouse85', 'cont', ['<num>']), ('PctSameCity85', 'cont', ['<num>']), ('PctSameState85', 'cont', ['<num>']), ('LemasSwornFT', 'cont', ['<num>']), ('LemasSwFTPerPop', 'cont', ['<num>']), ('LemasSwFTFieldOps', 'cont', ['<num>']), ('LemasSwFTFieldPerPop', 'cont', ['<num>']), ('LemasTotalReq', 'cont', ['<num>']), ('LemasTotReqPerPop', 'cont', ['<num>']), ('PolicReqPerOffic', 'cont', ['<num>']), ('PolicPerPop', 'cont', ['<num>']), ('RacialMatchCommPol', 'cont', ['<num>']), ('PctPolicWhite', 'cont', ['<num>']), ('PctPolicBlack', 'cont', ['<num>']), ('PctPolicHisp', 'cont', ['<num>']), ('PctPolicAsian', 'cont', ['<num>']), ('PctPolicMinor', 'cont', ['<num>']), ('OfficAssgnDrugUnits', 'cont', ['<num>']), ('NumKindsDrugsSeiz', 'cont', ['<num>']), ('PolicAveOTWorked', 'cont', ['<num>']), ('LandArea', 'cont', ['<num>']), ('PopDens', 'cont', ['<num>']), ('PctUsePubTrans', 'cont', ['<num>']), ('PolicCars', 'cont', ['<num>']), ('PolicOperBudg', 'cont', ['<num>']), ('LemasPctPolicOnPatr', 'cont', ['<num>']), ('LemasGangUnitDeploy', 'cont', ['<num>']), ('LemasPctOfficDrugUn', 'cont', ['<num>']), ('PolicBudgPerPop', 'cont', ['<num>']), ('ViolentCrimesPerPop', 'cont', ['<num>'])] ['state', 'county', 'community', 'communityname', 'fold', 'population', 'householdsize', 'racepctblack', 'racePctWhite', 'racePctAsian', 'racePctHisp', 'agePct12t21', 'agePct12t29', 'agePct16t24', 'agePct65up', 'numbUrban', 'pctUrban', 'medIncome', 'pctWWage', 'pctWFarmSelf', 'pctWInvInc', 'pctWSocSec', 'pctWPubAsst', 'pctWRetire', 'medFamInc', 'perCapInc', 'whitePerCap', 'blackPerCap', 'indianPerCap', 'AsianPerCap', 'OtherPerCap', 'HispPerCap', 'NumUnderPov', 'PctPopUnderPov', 'PctLess9thGrade', 'PctNotHSGrad', 'PctBSorMore', 'PctUnemployed', 'PctEmploy', 'PctEmplManu', 'PctEmplProfServ', 'PctOccupManu', 'PctOccupMgmtProf', 'MalePctDivorce', 'MalePctNevMarr', 'FemalePctDiv', 'TotalPctDiv', 'PersPerFam', 'PctFam2Par', 'PctKids2Par', 'PctYoungKids2Par', 'PctTeen2Par', 'PctWorkMomYoungKids', 'PctWorkMom', 'NumIlleg', 'PctIlleg', 'NumImmig', 'PctImmigRecent', 'PctImmigRec5', 'PctImmigRec8', 'PctImmigRec10', 'PctRecentImmig', 'PctRecImmig5', 'PctRecImmig8', 'PctRecImmig10', 'PctSpeakEnglOnly', 'PctNotSpeakEnglWell', 'PctLargHouseFam', 'PctLargHouseOccup', 'PersPerOccupHous', 'PersPerOwnOccHous', 'PersPerRentOccHous', 'PctPersOwnOccup', 'PctPersDenseHous', 'PctHousLess3BR', 'MedNumBR', 'HousVacant', 'PctHousOccup', 'PctHousOwnOcc', 'PctVacantBoarded', 'PctVacMore6Mos', 'MedYrHousBuilt', 'PctHousNoPhone', 'PctWOFullPlumb', 'OwnOccLowQuart', 'OwnOccMedVal', 'OwnOccHiQuart', 'RentLowQ', 'RentMedian', 'RentHighQ', 'MedRent', 'MedRentPctHousInc', 'MedOwnCostPctInc', 'MedOwnCostPctIncNoMtg', 'NumInShelters', 'NumStreet', 'PctForeignBorn', 'PctBornSameState', 'PctSameHouse85', 'PctSameCity85', 'PctSameState85', 'LemasSwornFT', 'LemasSwFTPerPop', 'LemasSwFTFieldOps', 'LemasSwFTFieldPerPop', 'LemasTotalReq', 'LemasTotReqPerPop', 'PolicReqPerOffic', 'PolicPerPop', 'RacialMatchCommPol', 'PctPolicWhite', 'PctPolicBlack', 'PctPolicHisp', 'PctPolicAsian', 'PctPolicMinor', 'OfficAssgnDrugUnits', 'NumKindsDrugsSeiz', 'PolicAveOTWorked', 'LandArea', 'PopDens', 'PctUsePubTrans', 'PolicCars', 'PolicOperBudg', 'LemasPctPolicOnPatr', 'LemasGangUnitDeploy', 'LemasPctOfficDrugUn', 'PolicBudgPerPop', 'ViolentCrimesPerPop'] [0, 1, 2, 3, 4]\n"
     ]
    }
   ],
   "source": [
    "attrs = '''\n",
    "    @attribute state non-predictive\n",
    "    @attribute county non-predictive\n",
    "    @attribute community non-predictive\n",
    "    @attribute communityname non-predictive\n",
    "    @attribute fold non-predictive\n",
    "    @attribute population numeric\n",
    "    @attribute householdsize numeric\n",
    "    @attribute racepctblack numeric\n",
    "    @attribute racePctWhite numeric\n",
    "    @attribute racePctAsian numeric\n",
    "    @attribute racePctHisp numeric\n",
    "    @attribute agePct12t21 numeric\n",
    "    @attribute agePct12t29 numeric\n",
    "    @attribute agePct16t24 numeric\n",
    "    @attribute agePct65up numeric\n",
    "    @attribute numbUrban numeric\n",
    "    @attribute pctUrban numeric\n",
    "    @attribute medIncome numeric\n",
    "    @attribute pctWWage numeric\n",
    "    @attribute pctWFarmSelf numeric\n",
    "    @attribute pctWInvInc numeric\n",
    "    @attribute pctWSocSec numeric\n",
    "    @attribute pctWPubAsst numeric\n",
    "    @attribute pctWRetire numeric\n",
    "    @attribute medFamInc numeric\n",
    "    @attribute perCapInc numeric\n",
    "    @attribute whitePerCap numeric\n",
    "    @attribute blackPerCap numeric\n",
    "    @attribute indianPerCap numeric\n",
    "    @attribute AsianPerCap numeric\n",
    "    @attribute OtherPerCap numeric\n",
    "    @attribute HispPerCap numeric\n",
    "    @attribute NumUnderPov numeric\n",
    "    @attribute PctPopUnderPov numeric\n",
    "    @attribute PctLess9thGrade numeric\n",
    "    @attribute PctNotHSGrad numeric\n",
    "    @attribute PctBSorMore numeric\n",
    "    @attribute PctUnemployed numeric\n",
    "    @attribute PctEmploy numeric\n",
    "    @attribute PctEmplManu numeric\n",
    "    @attribute PctEmplProfServ numeric\n",
    "    @attribute PctOccupManu numeric\n",
    "    @attribute PctOccupMgmtProf numeric\n",
    "    @attribute MalePctDivorce numeric\n",
    "    @attribute MalePctNevMarr numeric\n",
    "    @attribute FemalePctDiv numeric\n",
    "    @attribute TotalPctDiv numeric\n",
    "    @attribute PersPerFam numeric\n",
    "    @attribute PctFam2Par numeric\n",
    "    @attribute PctKids2Par numeric\n",
    "    @attribute PctYoungKids2Par numeric\n",
    "    @attribute PctTeen2Par numeric\n",
    "    @attribute PctWorkMomYoungKids numeric\n",
    "    @attribute PctWorkMom numeric\n",
    "    @attribute NumIlleg numeric\n",
    "    @attribute PctIlleg numeric\n",
    "    @attribute NumImmig numeric\n",
    "    @attribute PctImmigRecent numeric\n",
    "    @attribute PctImmigRec5 numeric\n",
    "    @attribute PctImmigRec8 numeric\n",
    "    @attribute PctImmigRec10 numeric\n",
    "    @attribute PctRecentImmig numeric\n",
    "    @attribute PctRecImmig5 numeric\n",
    "    @attribute PctRecImmig8 numeric\n",
    "    @attribute PctRecImmig10 numeric\n",
    "    @attribute PctSpeakEnglOnly numeric\n",
    "    @attribute PctNotSpeakEnglWell numeric\n",
    "    @attribute PctLargHouseFam numeric\n",
    "    @attribute PctLargHouseOccup numeric\n",
    "    @attribute PersPerOccupHous numeric\n",
    "    @attribute PersPerOwnOccHous numeric\n",
    "    @attribute PersPerRentOccHous numeric\n",
    "    @attribute PctPersOwnOccup numeric\n",
    "    @attribute PctPersDenseHous numeric\n",
    "    @attribute PctHousLess3BR numeric\n",
    "    @attribute MedNumBR numeric\n",
    "    @attribute HousVacant numeric\n",
    "    @attribute PctHousOccup numeric\n",
    "    @attribute PctHousOwnOcc numeric\n",
    "    @attribute PctVacantBoarded numeric\n",
    "    @attribute PctVacMore6Mos numeric\n",
    "    @attribute MedYrHousBuilt numeric\n",
    "    @attribute PctHousNoPhone numeric\n",
    "    @attribute PctWOFullPlumb numeric\n",
    "    @attribute OwnOccLowQuart numeric\n",
    "    @attribute OwnOccMedVal numeric\n",
    "    @attribute OwnOccHiQuart numeric\n",
    "    @attribute RentLowQ numeric\n",
    "    @attribute RentMedian numeric\n",
    "    @attribute RentHighQ numeric\n",
    "    @attribute MedRent numeric\n",
    "    @attribute MedRentPctHousInc numeric\n",
    "    @attribute MedOwnCostPctInc numeric\n",
    "    @attribute MedOwnCostPctIncNoMtg numeric\n",
    "    @attribute NumInShelters numeric\n",
    "    @attribute NumStreet numeric\n",
    "    @attribute PctForeignBorn numeric\n",
    "    @attribute PctBornSameState numeric\n",
    "    @attribute PctSameHouse85 numeric\n",
    "    @attribute PctSameCity85 numeric\n",
    "    @attribute PctSameState85 numeric\n",
    "    @attribute LemasSwornFT numeric\n",
    "    @attribute LemasSwFTPerPop numeric\n",
    "    @attribute LemasSwFTFieldOps numeric\n",
    "    @attribute LemasSwFTFieldPerPop numeric\n",
    "    @attribute LemasTotalReq numeric\n",
    "    @attribute LemasTotReqPerPop numeric\n",
    "    @attribute PolicReqPerOffic numeric\n",
    "    @attribute PolicPerPop numeric\n",
    "    @attribute RacialMatchCommPol numeric\n",
    "    @attribute PctPolicWhite numeric\n",
    "    @attribute PctPolicBlack numeric\n",
    "    @attribute PctPolicHisp numeric\n",
    "    @attribute PctPolicAsian numeric\n",
    "    @attribute PctPolicMinor numeric\n",
    "    @attribute OfficAssgnDrugUnits numeric\n",
    "    @attribute NumKindsDrugsSeiz numeric\n",
    "    @attribute PolicAveOTWorked numeric\n",
    "    @attribute LandArea numeric\n",
    "    @attribute PopDens numeric\n",
    "    @attribute PctUsePubTrans numeric\n",
    "    @attribute PolicCars numeric\n",
    "    @attribute PolicOperBudg numeric\n",
    "    @attribute LemasPctPolicOnPatr numeric\n",
    "    @attribute LemasGangUnitDeploy numeric\n",
    "    @attribute LemasPctOfficDrugUn numeric\n",
    "    @attribute PolicBudgPerPop numeric\n",
    "    @attribute ViolentCrimesPerPop numeric\n",
    "    '''\n",
    "feature_info, feature_names = [], []\n",
    "col_names = attrs.split('@attribute')[1:]\n",
    "cols_to_drop, idx_to_drop = [], set()\n",
    "for i in range(len(col_names)):\n",
    "    entry = col_names[i]\n",
    "    fname, ftype = entry.strip('\\n    ').split()\n",
    "    if ftype != 'numeric':\n",
    "        cols_to_drop.append(i)\n",
    "        idx_to_drop.add(i)\n",
    "    feature_info.append((fname, 'cont', ['<num>']))\n",
    "    feature_names.append(fname)\n",
    "print (feature_info, feature_names, cols_to_drop)"
   ]
  },
  {
   "cell_type": "code",
   "execution_count": 106,
   "metadata": {},
   "outputs": [
    {
     "name": "stdout",
     "output_type": "stream",
     "text": [
      "[0, 1, 2, 3, 4, 101, 102, 103, 104, 105, 106, 107, 108, 109, 110, 111, 112, 113, 114, 115, 116, 117, 121, 122, 123, 124, 126] {0, 1, 2, 3, 4, 101, 102, 103, 104, 105, 106, 107, 108, 109, 110, 111, 112, 113, 114, 115, 116, 117, 121, 122, 123, 124, 126}\n",
      "['population', 'householdsize', 'racepctblack', 'racePctWhite', 'racePctAsian', 'racePctHisp', 'agePct12t21', 'agePct12t29', 'agePct16t24', 'agePct65up', 'numbUrban', 'pctUrban', 'medIncome', 'pctWWage', 'pctWFarmSelf', 'pctWInvInc', 'pctWSocSec', 'pctWPubAsst', 'pctWRetire', 'medFamInc', 'perCapInc', 'whitePerCap', 'blackPerCap', 'indianPerCap', 'AsianPerCap', 'OtherPerCap', 'HispPerCap', 'NumUnderPov', 'PctPopUnderPov', 'PctLess9thGrade', 'PctNotHSGrad', 'PctBSorMore', 'PctUnemployed', 'PctEmploy', 'PctEmplManu', 'PctEmplProfServ', 'PctOccupManu', 'PctOccupMgmtProf', 'MalePctDivorce', 'MalePctNevMarr', 'FemalePctDiv', 'TotalPctDiv', 'PersPerFam', 'PctFam2Par', 'PctKids2Par', 'PctYoungKids2Par', 'PctTeen2Par', 'PctWorkMomYoungKids', 'PctWorkMom', 'NumIlleg', 'PctIlleg', 'NumImmig', 'PctImmigRecent', 'PctImmigRec5', 'PctImmigRec8', 'PctImmigRec10', 'PctRecentImmig', 'PctRecImmig5', 'PctRecImmig8', 'PctRecImmig10', 'PctSpeakEnglOnly', 'PctNotSpeakEnglWell', 'PctLargHouseFam', 'PctLargHouseOccup', 'PersPerOccupHous', 'PersPerOwnOccHous', 'PersPerRentOccHous', 'PctPersOwnOccup', 'PctPersDenseHous', 'PctHousLess3BR', 'MedNumBR', 'HousVacant', 'PctHousOccup', 'PctHousOwnOcc', 'PctVacantBoarded', 'PctVacMore6Mos', 'MedYrHousBuilt', 'PctHousNoPhone', 'PctWOFullPlumb', 'OwnOccLowQuart', 'OwnOccMedVal', 'OwnOccHiQuart', 'RentLowQ', 'RentMedian', 'RentHighQ', 'MedRent', 'MedRentPctHousInc', 'MedOwnCostPctInc', 'MedOwnCostPctIncNoMtg', 'NumInShelters', 'NumStreet', 'PctForeignBorn', 'PctBornSameState', 'PctSameHouse85', 'PctSameCity85', 'PctSameState85', 'LandArea', 'PopDens', 'PctUsePubTrans', 'LemasPctOfficDrugUn', 'ViolentCrimesPerPop'] [('population', 'cont', ['<num>']), ('householdsize', 'cont', ['<num>']), ('racepctblack', 'cont', ['<num>']), ('racePctWhite', 'cont', ['<num>']), ('racePctAsian', 'cont', ['<num>']), ('racePctHisp', 'cont', ['<num>']), ('agePct12t21', 'cont', ['<num>']), ('agePct12t29', 'cont', ['<num>']), ('agePct16t24', 'cont', ['<num>']), ('agePct65up', 'cont', ['<num>']), ('numbUrban', 'cont', ['<num>']), ('pctUrban', 'cont', ['<num>']), ('medIncome', 'cont', ['<num>']), ('pctWWage', 'cont', ['<num>']), ('pctWFarmSelf', 'cont', ['<num>']), ('pctWInvInc', 'cont', ['<num>']), ('pctWSocSec', 'cont', ['<num>']), ('pctWPubAsst', 'cont', ['<num>']), ('pctWRetire', 'cont', ['<num>']), ('medFamInc', 'cont', ['<num>']), ('perCapInc', 'cont', ['<num>']), ('whitePerCap', 'cont', ['<num>']), ('blackPerCap', 'cont', ['<num>']), ('indianPerCap', 'cont', ['<num>']), ('AsianPerCap', 'cont', ['<num>']), ('OtherPerCap', 'cont', ['<num>']), ('HispPerCap', 'cont', ['<num>']), ('NumUnderPov', 'cont', ['<num>']), ('PctPopUnderPov', 'cont', ['<num>']), ('PctLess9thGrade', 'cont', ['<num>']), ('PctNotHSGrad', 'cont', ['<num>']), ('PctBSorMore', 'cont', ['<num>']), ('PctUnemployed', 'cont', ['<num>']), ('PctEmploy', 'cont', ['<num>']), ('PctEmplManu', 'cont', ['<num>']), ('PctEmplProfServ', 'cont', ['<num>']), ('PctOccupManu', 'cont', ['<num>']), ('PctOccupMgmtProf', 'cont', ['<num>']), ('MalePctDivorce', 'cont', ['<num>']), ('MalePctNevMarr', 'cont', ['<num>']), ('FemalePctDiv', 'cont', ['<num>']), ('TotalPctDiv', 'cont', ['<num>']), ('PersPerFam', 'cont', ['<num>']), ('PctFam2Par', 'cont', ['<num>']), ('PctKids2Par', 'cont', ['<num>']), ('PctYoungKids2Par', 'cont', ['<num>']), ('PctTeen2Par', 'cont', ['<num>']), ('PctWorkMomYoungKids', 'cont', ['<num>']), ('PctWorkMom', 'cont', ['<num>']), ('NumIlleg', 'cont', ['<num>']), ('PctIlleg', 'cont', ['<num>']), ('NumImmig', 'cont', ['<num>']), ('PctImmigRecent', 'cont', ['<num>']), ('PctImmigRec5', 'cont', ['<num>']), ('PctImmigRec8', 'cont', ['<num>']), ('PctImmigRec10', 'cont', ['<num>']), ('PctRecentImmig', 'cont', ['<num>']), ('PctRecImmig5', 'cont', ['<num>']), ('PctRecImmig8', 'cont', ['<num>']), ('PctRecImmig10', 'cont', ['<num>']), ('PctSpeakEnglOnly', 'cont', ['<num>']), ('PctNotSpeakEnglWell', 'cont', ['<num>']), ('PctLargHouseFam', 'cont', ['<num>']), ('PctLargHouseOccup', 'cont', ['<num>']), ('PersPerOccupHous', 'cont', ['<num>']), ('PersPerOwnOccHous', 'cont', ['<num>']), ('PersPerRentOccHous', 'cont', ['<num>']), ('PctPersOwnOccup', 'cont', ['<num>']), ('PctPersDenseHous', 'cont', ['<num>']), ('PctHousLess3BR', 'cont', ['<num>']), ('MedNumBR', 'cont', ['<num>']), ('HousVacant', 'cont', ['<num>']), ('PctHousOccup', 'cont', ['<num>']), ('PctHousOwnOcc', 'cont', ['<num>']), ('PctVacantBoarded', 'cont', ['<num>']), ('PctVacMore6Mos', 'cont', ['<num>']), ('MedYrHousBuilt', 'cont', ['<num>']), ('PctHousNoPhone', 'cont', ['<num>']), ('PctWOFullPlumb', 'cont', ['<num>']), ('OwnOccLowQuart', 'cont', ['<num>']), ('OwnOccMedVal', 'cont', ['<num>']), ('OwnOccHiQuart', 'cont', ['<num>']), ('RentLowQ', 'cont', ['<num>']), ('RentMedian', 'cont', ['<num>']), ('RentHighQ', 'cont', ['<num>']), ('MedRent', 'cont', ['<num>']), ('MedRentPctHousInc', 'cont', ['<num>']), ('MedOwnCostPctInc', 'cont', ['<num>']), ('MedOwnCostPctIncNoMtg', 'cont', ['<num>']), ('NumInShelters', 'cont', ['<num>']), ('NumStreet', 'cont', ['<num>']), ('PctForeignBorn', 'cont', ['<num>']), ('PctBornSameState', 'cont', ['<num>']), ('PctSameHouse85', 'cont', ['<num>']), ('PctSameCity85', 'cont', ['<num>']), ('PctSameState85', 'cont', ['<num>']), ('LandArea', 'cont', ['<num>']), ('PopDens', 'cont', ['<num>']), ('PctUsePubTrans', 'cont', ['<num>']), ('LemasPctOfficDrugUn', 'cont', ['<num>']), ('ViolentCrimesPerPop', 'cont', ['<num>'])]\n"
     ]
    }
   ],
   "source": [
    "for i in range(len(df.columns)):\n",
    "    col = df.columns[i]\n",
    "    if df[col].dtype == object and np.count_nonzero(df[col] == '?') > 1000 and col not in cols_to_drop:\n",
    "        # remove any feature with > 1000 missing values\n",
    "        cols_to_drop.append(col)\n",
    "        idx_to_drop.add(i)\n",
    "print (cols_to_drop, idx_to_drop)\n",
    "df.drop(columns=cols_to_drop, axis=1, inplace=True)\n",
    "new_feature_info, new_feature_names = [], []\n",
    "for i in range(len(feature_info)):\n",
    "    if i in idx_to_drop:\n",
    "        continue\n",
    "    else:\n",
    "        new_feature_info.append(feature_info[i])\n",
    "        new_feature_names.append(feature_names[i])\n",
    "assert len(df.columns) == len(new_feature_names)\n",
    "print (new_feature_names, new_feature_info)\n",
    "df.columns = new_feature_names"
   ]
  },
  {
   "cell_type": "code",
   "execution_count": 107,
   "metadata": {},
   "outputs": [
    {
     "data": {
      "text/plain": [
       "1994"
      ]
     },
     "execution_count": 107,
     "metadata": {},
     "output_type": "execute_result"
    }
   ],
   "source": [
    "len(df)"
   ]
  },
  {
   "cell_type": "code",
   "execution_count": 108,
   "metadata": {},
   "outputs": [
    {
     "data": {
      "text/plain": [
       "1993"
      ]
     },
     "execution_count": 108,
     "metadata": {},
     "output_type": "execute_result"
    }
   ],
   "source": [
    "complete_rows = ~np.any(np.array(df == '?'), axis=1)\n",
    "count_complete_rows = np.count_nonzero(complete_rows)\n",
    "count_complete_rows"
   ]
  },
  {
   "cell_type": "code",
   "execution_count": 109,
   "metadata": {},
   "outputs": [
    {
     "data": {
      "text/plain": [
       "1993"
      ]
     },
     "execution_count": 109,
     "metadata": {},
     "output_type": "execute_result"
    }
   ],
   "source": [
    "# remove rows which have missing info\n",
    "incomplete_rows = np.where(np.any(np.array(df == '?'), axis=1))[0]\n",
    "incomplete_rows\n",
    "df.drop(incomplete_rows, axis=0, inplace=True)\n",
    "len(df)"
   ]
  },
  {
   "cell_type": "code",
   "execution_count": 110,
   "metadata": {
    "collapsed": true
   },
   "outputs": [],
   "source": [
    "# sanity check, after dropping missing value rows, no more rows should have missing values\n",
    "incomplete_rows = np.where(np.any(np.array(df == '?'), axis=1))[0]\n",
    "incomplete_rows\n",
    "assert len(incomplete_rows) == 0"
   ]
  },
  {
   "cell_type": "code",
   "execution_count": 111,
   "metadata": {},
   "outputs": [
    {
     "data": {
      "text/plain": [
       "[('population', 'cont', ['<num>']),\n",
       " ('householdsize', 'cont', ['<num>']),\n",
       " ('racepctblack', 'cont', ['<num>']),\n",
       " ('racePctWhite', 'cont', ['<num>']),\n",
       " ('racePctAsian', 'cont', ['<num>']),\n",
       " ('racePctHisp', 'cont', ['<num>']),\n",
       " ('agePct12t21', 'cont', ['<num>']),\n",
       " ('agePct12t29', 'cont', ['<num>']),\n",
       " ('agePct16t24', 'cont', ['<num>']),\n",
       " ('agePct65up', 'cont', ['<num>']),\n",
       " ('numbUrban', 'cont', ['<num>']),\n",
       " ('pctUrban', 'cont', ['<num>']),\n",
       " ('medIncome', 'cont', ['<num>']),\n",
       " ('pctWWage', 'cont', ['<num>']),\n",
       " ('pctWFarmSelf', 'cont', ['<num>']),\n",
       " ('pctWInvInc', 'cont', ['<num>']),\n",
       " ('pctWSocSec', 'cont', ['<num>']),\n",
       " ('pctWPubAsst', 'cont', ['<num>']),\n",
       " ('pctWRetire', 'cont', ['<num>']),\n",
       " ('medFamInc', 'cont', ['<num>']),\n",
       " ('perCapInc', 'cont', ['<num>']),\n",
       " ('whitePerCap', 'cont', ['<num>']),\n",
       " ('blackPerCap', 'cont', ['<num>']),\n",
       " ('indianPerCap', 'cont', ['<num>']),\n",
       " ('AsianPerCap', 'cont', ['<num>']),\n",
       " ('OtherPerCap', 'cont', ['<num>']),\n",
       " ('HispPerCap', 'cont', ['<num>']),\n",
       " ('NumUnderPov', 'cont', ['<num>']),\n",
       " ('PctPopUnderPov', 'cont', ['<num>']),\n",
       " ('PctLess9thGrade', 'cont', ['<num>']),\n",
       " ('PctNotHSGrad', 'cont', ['<num>']),\n",
       " ('PctBSorMore', 'cont', ['<num>']),\n",
       " ('PctUnemployed', 'cont', ['<num>']),\n",
       " ('PctEmploy', 'cont', ['<num>']),\n",
       " ('PctEmplManu', 'cont', ['<num>']),\n",
       " ('PctEmplProfServ', 'cont', ['<num>']),\n",
       " ('PctOccupManu', 'cont', ['<num>']),\n",
       " ('PctOccupMgmtProf', 'cont', ['<num>']),\n",
       " ('MalePctDivorce', 'cont', ['<num>']),\n",
       " ('MalePctNevMarr', 'cont', ['<num>']),\n",
       " ('FemalePctDiv', 'cont', ['<num>']),\n",
       " ('TotalPctDiv', 'cont', ['<num>']),\n",
       " ('PersPerFam', 'cont', ['<num>']),\n",
       " ('PctFam2Par', 'cont', ['<num>']),\n",
       " ('PctKids2Par', 'cont', ['<num>']),\n",
       " ('PctYoungKids2Par', 'cont', ['<num>']),\n",
       " ('PctTeen2Par', 'cont', ['<num>']),\n",
       " ('PctWorkMomYoungKids', 'cont', ['<num>']),\n",
       " ('PctWorkMom', 'cont', ['<num>']),\n",
       " ('NumIlleg', 'cont', ['<num>']),\n",
       " ('PctIlleg', 'cont', ['<num>']),\n",
       " ('NumImmig', 'cont', ['<num>']),\n",
       " ('PctImmigRecent', 'cont', ['<num>']),\n",
       " ('PctImmigRec5', 'cont', ['<num>']),\n",
       " ('PctImmigRec8', 'cont', ['<num>']),\n",
       " ('PctImmigRec10', 'cont', ['<num>']),\n",
       " ('PctRecentImmig', 'cont', ['<num>']),\n",
       " ('PctRecImmig5', 'cont', ['<num>']),\n",
       " ('PctRecImmig8', 'cont', ['<num>']),\n",
       " ('PctRecImmig10', 'cont', ['<num>']),\n",
       " ('PctSpeakEnglOnly', 'cont', ['<num>']),\n",
       " ('PctNotSpeakEnglWell', 'cont', ['<num>']),\n",
       " ('PctLargHouseFam', 'cont', ['<num>']),\n",
       " ('PctLargHouseOccup', 'cont', ['<num>']),\n",
       " ('PersPerOccupHous', 'cont', ['<num>']),\n",
       " ('PersPerOwnOccHous', 'cont', ['<num>']),\n",
       " ('PersPerRentOccHous', 'cont', ['<num>']),\n",
       " ('PctPersOwnOccup', 'cont', ['<num>']),\n",
       " ('PctPersDenseHous', 'cont', ['<num>']),\n",
       " ('PctHousLess3BR', 'cont', ['<num>']),\n",
       " ('MedNumBR', 'cont', ['<num>']),\n",
       " ('HousVacant', 'cont', ['<num>']),\n",
       " ('PctHousOccup', 'cont', ['<num>']),\n",
       " ('PctHousOwnOcc', 'cont', ['<num>']),\n",
       " ('PctVacantBoarded', 'cont', ['<num>']),\n",
       " ('PctVacMore6Mos', 'cont', ['<num>']),\n",
       " ('MedYrHousBuilt', 'cont', ['<num>']),\n",
       " ('PctHousNoPhone', 'cont', ['<num>']),\n",
       " ('PctWOFullPlumb', 'cont', ['<num>']),\n",
       " ('OwnOccLowQuart', 'cont', ['<num>']),\n",
       " ('OwnOccMedVal', 'cont', ['<num>']),\n",
       " ('OwnOccHiQuart', 'cont', ['<num>']),\n",
       " ('RentLowQ', 'cont', ['<num>']),\n",
       " ('RentMedian', 'cont', ['<num>']),\n",
       " ('RentHighQ', 'cont', ['<num>']),\n",
       " ('MedRent', 'cont', ['<num>']),\n",
       " ('MedRentPctHousInc', 'cont', ['<num>']),\n",
       " ('MedOwnCostPctInc', 'cont', ['<num>']),\n",
       " ('MedOwnCostPctIncNoMtg', 'cont', ['<num>']),\n",
       " ('NumInShelters', 'cont', ['<num>']),\n",
       " ('NumStreet', 'cont', ['<num>']),\n",
       " ('PctForeignBorn', 'cont', ['<num>']),\n",
       " ('PctBornSameState', 'cont', ['<num>']),\n",
       " ('PctSameHouse85', 'cont', ['<num>']),\n",
       " ('PctSameCity85', 'cont', ['<num>']),\n",
       " ('PctSameState85', 'cont', ['<num>']),\n",
       " ('LandArea', 'cont', ['<num>']),\n",
       " ('PopDens', 'cont', ['<num>']),\n",
       " ('PctUsePubTrans', 'cont', ['<num>']),\n",
       " ('LemasPctOfficDrugUn', 'cont', ['<num>']),\n",
       " ('ViolentCrimesPerPop', 'cont', ['<num>'])]"
      ]
     },
     "execution_count": 111,
     "metadata": {},
     "output_type": "execute_result"
    }
   ],
   "source": [
    "new_feature_info"
   ]
  },
  {
   "cell_type": "code",
   "execution_count": 116,
   "metadata": {},
   "outputs": [
    {
     "name": "stdout",
     "output_type": "stream",
     "text": [
      "[0.2  0.67 0.43 ... 0.23 0.19 0.48]\n"
     ]
    },
    {
     "data": {
      "text/plain": [
       "(array([[0.19, 0.33, 0.02, ..., 0.26, 0.2, 0.32],\n",
       "        [0.0, 0.16, 0.12, ..., 0.12, 0.45, 0.0],\n",
       "        [0.0, 0.42, 0.49, ..., 0.21, 0.02, 0.0],\n",
       "        ...,\n",
       "        [0.16, 0.37, 0.25, ..., 0.32, 0.18, 0.91],\n",
       "        [0.08, 0.51, 0.06, ..., 0.38, 0.33, 0.22],\n",
       "        [0.2, 0.78, 0.14, ..., 0.3, 0.05, 1.0]], dtype=object),\n",
       " (1993, 100),\n",
       " array([0.8 , 0.33, 0.57, ..., 0.77, 0.81, 0.52]),\n",
       " (1993,),\n",
       " {'MajorityRaceWhite': array([ True,  True,  True, ...,  True,  True, False])})"
      ]
     },
     "execution_count": 116,
     "metadata": {},
     "output_type": "execute_result"
    }
   ],
   "source": [
    "# last feature is actually Y, so remove from list of feature names\n",
    "new_feature_names, new_feature_info = new_feature_names[:-1], new_feature_info[:-1]\n",
    "X = np.array(df[df.columns[:-1]])\n",
    "Y = np.array(df[df.columns[-1]])\n",
    "print (Y)\n",
    "Y = max(Y) - Y # to have increasing Y value as desirable\n",
    "race_sens = ['racepctblack', 'racePctAsian', 'racePctHisp']\n",
    "# race_sens = ['racePctWhite', 'racePctAsian', 'racePctHisp']\n",
    "race_nosens = ['racePctWhite', 'racePctWhite', 'racePctWhite']\n",
    "# race_nosens = ['racepctblack', 'racepctblack', 'racepctblack']\n",
    "x_control = {'MajorityRaceWhite': np.all(np.array(df[race_sens]) < np.array(df[race_nosens]), axis=1)}\n",
    "X, X.shape, Y, Y.shape, x_control"
   ]
  },
  {
   "cell_type": "code",
   "execution_count": 113,
   "metadata": {},
   "outputs": [
    {
     "data": {
      "text/plain": [
       "['processed_crimes_and_communities.pkl']"
      ]
     },
     "execution_count": 113,
     "metadata": {},
     "output_type": "execute_result"
    }
   ],
   "source": [
    "from sklearn.externals import joblib\n",
    "def make_dataset(X, Y, feature_info, feature_names, x_control, subset=True):\n",
    "    ds = {}\n",
    "    ds['X'] = X.astype('float') if not subset else X.astype('float')[:,:21]\n",
    "    ds['Y'] = Y.astype('float')\n",
    "    ds['attr_info'] = feature_info if not subset else feature_info[:21]\n",
    "    ds['attr_names'] = feature_names if not subset else feature_names[:21]\n",
    "    ds['x_control'] = x_control\n",
    "    return ds\n",
    "\n",
    "ds = make_dataset(X, Y, new_feature_info, new_feature_names, x_control)\n",
    "joblib.dump(ds, 'processed_crimes_and_communities.pkl')"
   ]
  },
  {
   "cell_type": "code",
   "execution_count": 114,
   "metadata": {},
   "outputs": [
    {
     "name": "stdout",
     "output_type": "stream",
     "text": [
      "['population', 'householdsize', 'racepctblack', 'racePctWhite', 'racePctAsian', 'racePctHisp', 'agePct12t21', 'agePct12t29', 'agePct16t24', 'agePct65up', 'numbUrban', 'pctUrban', 'medIncome', 'pctWWage', 'pctWFarmSelf', 'pctWInvInc', 'pctWSocSec', 'pctWPubAsst', 'pctWRetire', 'medFamInc', 'perCapInc']\n"
     ]
    }
   ],
   "source": [
    "ds = joblib.load('processed_crimes_and_communities.pkl')\n",
    "print (ds['attr_names'])"
   ]
  },
  {
   "cell_type": "code",
   "execution_count": null,
   "metadata": {
    "collapsed": true
   },
   "outputs": [],
   "source": []
  },
  {
   "cell_type": "code",
   "execution_count": null,
   "metadata": {
    "collapsed": true
   },
   "outputs": [],
   "source": []
  },
  {
   "cell_type": "code",
   "execution_count": null,
   "metadata": {
    "collapsed": true
   },
   "outputs": [],
   "source": []
  }
 ],
 "metadata": {
  "kernelspec": {
   "display_name": "Python 3",
   "language": "python",
   "name": "python3"
  },
  "language_info": {
   "codemirror_mode": {
    "name": "ipython",
    "version": 3
   },
   "file_extension": ".py",
   "mimetype": "text/x-python",
   "name": "python",
   "nbconvert_exporter": "python",
   "pygments_lexer": "ipython3",
   "version": "3.6.1"
  }
 },
 "nbformat": 4,
 "nbformat_minor": 2
}
